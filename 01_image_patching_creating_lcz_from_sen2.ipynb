{
 "cells": [
  {
   "cell_type": "markdown",
   "id": "7bbc51e2-d613-452d-82fe-ff9aa15e4536",
   "metadata": {},
   "source": [
    "# Image patching from LCZ polygons samples on Sen-2 imagery"
   ]
  },
  {
   "cell_type": "code",
   "execution_count": 1,
   "id": "397db21b-f130-4081-b7eb-2474dfde1ab4",
   "metadata": {},
   "outputs": [],
   "source": [
    "import csv\n",
    "import os\n",
    "import rasterio\n",
    "from rasterio.windows import Window"
   ]
  },
  {
   "cell_type": "markdown",
   "id": "e0d278c9-f6ee-4ff5-ac0b-2e4184caf803",
   "metadata": {},
   "source": [
    "### Define image_patch function"
   ]
  },
  {
   "cell_type": "code",
   "execution_count": 2,
   "id": "06152d7c-c779-45ba-af05-17fbde134903",
   "metadata": {},
   "outputs": [],
   "source": [
    "def image_patch(image_path, x, y, patch_size, label):\n",
    "    \"\"\"\n",
    "    Extracts a patch of size patch_size x patch_size centered at (x, y) from the image\n",
    "    located at image_path, and saves it to a new file in a directory named after label.\n",
    "    \"\"\"\n",
    "    # Open the image file\n",
    "    with rasterio.open(image_path) as src:\n",
    "\n",
    "        # Compute the window around the datapoint\n",
    "        row, col = src.index(x, y)\n",
    "        row_off = row - patch_size // 2\n",
    "        col_off = col - patch_size // 2\n",
    "        window = Window(col_off, row_off, patch_size, patch_size)\n",
    "\n",
    "        # Read the patch from the image\n",
    "        patch = src.read(window=window)\n",
    "\n",
    "        # Update the output metadata to reflect the new dimensions\n",
    "        meta = src.meta.copy()\n",
    "        meta.update({\n",
    "            'width': patch_size,\n",
    "            'height': patch_size,\n",
    "            'transform': rasterio.windows.transform(window, src.transform)\n",
    "        })\n",
    "\n",
    "        # Create the output directory if it doesn't exist\n",
    "        label_dir = label\n",
    "        os.makedirs(label_dir, exist_ok=True)\n",
    "\n",
    "        # Write the patch to a new file\n",
    "        output_path = os.path.join(label_dir, f'{x}_{y}.tif')\n",
    "        with rasterio.open(output_path, 'w', **meta) as dst:\n",
    "            dst.write(patch)"
   ]
  },
  {
   "cell_type": "markdown",
   "id": "2158829c-2690-4b74-8c7c-9e6d914c1526",
   "metadata": {},
   "source": [
    "### for image patching  from polygons (if the center point of the patch is within the polygon)"
   ]
  },
  {
   "cell_type": "code",
   "execution_count": 9,
   "id": "d5afc85e-7842-431c-8692-74836ed40ff0",
   "metadata": {},
   "outputs": [],
   "source": [
    "from osgeo import ogr, osr\n",
    "import numpy as np\n",
    "\n",
    "# Define the patch size in pixels\n",
    "patch_size = 32\n",
    "\n",
    "# Open the image file:\n",
    "src = rasterio.open('Amsterdam_Sen2.tif')\n",
    "\n",
    "# Open the polygons shapefile\n",
    "shapefile = ogr.Open('polygons/Amsterdam_S2_valid.shp')\n",
    "polygons_layer = shapefile.GetLayer(0)\n",
    "\n",
    "# Loop over the polygons\n",
    "for polygon_feature in polygons_layer:\n",
    "\n",
    "    # Get the label of the polygon\n",
    "    label = str(polygon_feature.GetField('label'))\n",
    "    # Get the bounding box of the polygon\n",
    "    geom = polygon_feature.GetGeometryRef()\n",
    "    envelope = geom.GetEnvelope()\n",
    "    min_x, max_x, min_y, max_y = envelope\n",
    "\n",
    "    # Get the pixel resolution of the image\n",
    "    x_res, y_res = src.res\n",
    "\n",
    "    # Compute the number of steps in the x and y directions\n",
    "    n_x = int(np.ceil((max_x - min_x) / x_res))\n",
    "    n_y = int(np.ceil((max_y - min_y) / y_res))\n",
    "\n",
    "    # Define the step size in pixels\n",
    "    step_size = patch_size // 2\n",
    "\n",
    "    # Define the x and y coordinates of the grid points in pixels\n",
    "    x_coords = np.linspace(min_x, max_x - x_res, n_x, dtype=float)[::step_size]\n",
    "    y_coords = np.linspace(min_y, max_y - y_res, n_y, dtype=float)[::step_size]\n",
    "    points = [(x, y) for x in x_coords for y in y_coords]\n",
    "    \n",
    "    # Loop over the points\n",
    "    for x, y in points:\n",
    "        # Check if the point is within the polygon\n",
    "        point = ogr.Geometry(ogr.wkbPoint)\n",
    "        point.AddPoint(x, y)\n",
    "        if geom.Contains(point):\n",
    "            # Extract the patch and save it to a file\n",
    "            image_patch('Amsterdam_Sen2.tif', x, y, patch_size, label)\n"
   ]
  }
 ],
 "metadata": {
  "kernelspec": {
   "display_name": "Python",
   "language": "python",
   "name": "python3"
  },
  "language_info": {
   "codemirror_mode": {
    "name": "ipython",
    "version": 3
   },
   "file_extension": ".py",
   "mimetype": "text/x-python",
   "name": "python",
   "nbconvert_exporter": "python",
   "pygments_lexer": "ipython3",
   "version": "3.8.10"
  }
 },
 "nbformat": 4,
 "nbformat_minor": 5
}
