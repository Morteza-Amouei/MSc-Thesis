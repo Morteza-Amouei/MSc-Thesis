{
 "cells": [
  {
   "cell_type": "markdown",
   "metadata": {},
   "source": [
    "# LSTM Model for Air Pollution Prediction"
   ]
  },
  {
   "cell_type": "code",
   "execution_count": 1,
   "metadata": {},
   "outputs": [],
   "source": [
    "import numpy as np\n",
    "import pandas as pd\n",
    "import tensorflow as tf\n",
    "%load_ext tensorboard\n",
    "import matplotlib.pyplot as plt\n",
    "import sklearn\n",
    "from sklearn.metrics import mean_squared_error, r2_score"
   ]
  },
  {
   "cell_type": "code",
   "execution_count": 2,
   "metadata": {},
   "outputs": [],
   "source": [
    "dataset_path = 'dataset_after_feature_engineering.csv'\n",
    "y_column = 'PM25'\n",
    "X_columns = ['temperature', 'precipitation',\n",
    "       'humidity', 'cloudiness', 'pressure', 'temperature1', 'humidity1',\n",
    "       'lcz', '1', '2', '3', '4', '5', '6', '8', '9', '10', 'A', 'B', 'D', 'E','traffic', 'Wx', 'Wy', 'max Wx', 'max Wy',\n",
    "       'timestamp_s', 'Day sin', 'Day cos', 'Year sin', 'Year cos'] \n",
    "\n",
    "stratification_column = 'sensor'\n",
    "\n",
    "date = 'date'\n"
   ]
  },
  {
   "cell_type": "code",
   "execution_count": 2,
   "metadata": {},
   "outputs": [],
   "source": [
    "dataset_path = 'dataset_after_feature_engineering.csv'\n",
    "y_column = 'PM25'\n",
    "X_columns = ['temperature', 'precipitation',\n",
    "       'humidity', 'cloudiness', 'pressure', 'temperature1', 'humidity1',\n",
    "       'lcz','traffic', 'Wx', 'Wy', 'max Wx', 'max Wy',\n",
    "       'timestamp_s', 'Day sin', 'Day cos', 'Year sin', 'Year cos'] \n",
    "\n",
    "stratification_column = 'sensor'\n",
    "\n",
    "date = 'date'"
   ]
  },
  {
   "cell_type": "code",
   "execution_count": 53,
   "metadata": {},
   "outputs": [],
   "source": [
    "# no lcz\n",
    "dataset_path = 'dataset_after_feature_engineering.csv'\n",
    "y_column = 'PM25'\n",
    "X_columns = ['temperature', 'precipitation',\n",
    "       'humidity', 'cloudiness', 'pressure', 'temperature1', 'humidity1',\n",
    "       'traffic', 'Wx', 'Wy', 'max Wx', 'max Wy',\n",
    "       'timestamp_s', 'Day sin', 'Day cos', 'Year sin', 'Year cos'] \n",
    "\n",
    "stratification_column = 'sensor'\n",
    "\n",
    "date = 'date'"
   ]
  },
  {
   "cell_type": "code",
   "execution_count": 86,
   "metadata": {},
   "outputs": [],
   "source": [
    "# no lcz and traffic\n",
    "dataset_path = 'dataset_after_feature_engineering.csv'\n",
    "y_column = 'PM25'\n",
    "X_columns = ['temperature', 'precipitation',\n",
    "       'humidity', 'cloudiness', 'pressure', 'temperature1', 'humidity1',\n",
    "        'Wx', 'Wy', 'max Wx', 'max Wy',\n",
    "       'timestamp_s', 'Day sin', 'Day cos', 'Year sin', 'Year cos'] \n",
    "\n",
    "stratification_column = 'sensor'\n",
    "\n",
    "date = 'date'"
   ]
  },
  {
   "cell_type": "markdown",
   "metadata": {},
   "source": [
    "## Loading the data\n",
    "\n",
    "Loading"
   ]
  },
  {
   "cell_type": "code",
   "execution_count": 3,
   "metadata": {},
   "outputs": [
    {
     "name": "stdout",
     "output_type": "stream",
     "text": [
      "Number of records: 374159\n"
     ]
    },
    {
     "data": {
      "text/plain": [
       "Index(['sensor', 'DateTime', 'PM25', 'temperature', 'precipitation',\n",
       "       'humidity', 'cloudiness', 'pressure', 'temperature1', 'humidity1',\n",
       "       'lcz', '1', '2', '3', '4', '5', '6', '8', '9', '10', 'A', 'B', 'D', 'E',\n",
       "       'F', 'G', 'traffic', 'date', 'Wx', 'Wy', 'max Wx', 'max Wy',\n",
       "       'timestamp_s', 'Day sin', 'Day cos', 'Year sin', 'Year cos'],\n",
       "      dtype='object')"
      ]
     },
     "execution_count": 3,
     "metadata": {},
     "output_type": "execute_result"
    }
   ],
   "source": [
    "df = pd.read_csv(dataset_path)\n",
    "df = df[df.notna()]\n",
    "print(F\"Number of records: {df.shape[0]}\")\n",
    "df.columns\n"
   ]
  },
  {
   "cell_type": "markdown",
   "metadata": {},
   "source": [
    "Reorder columns"
   ]
  },
  {
   "cell_type": "code",
   "execution_count": 4,
   "metadata": {},
   "outputs": [
    {
     "data": {
      "text/html": [
       "<div>\n",
       "<style scoped>\n",
       "    .dataframe tbody tr th:only-of-type {\n",
       "        vertical-align: middle;\n",
       "    }\n",
       "\n",
       "    .dataframe tbody tr th {\n",
       "        vertical-align: top;\n",
       "    }\n",
       "\n",
       "    .dataframe thead th {\n",
       "        text-align: right;\n",
       "    }\n",
       "</style>\n",
       "<table border=\"1\" class=\"dataframe\">\n",
       "  <thead>\n",
       "    <tr style=\"text-align: right;\">\n",
       "      <th></th>\n",
       "      <th>temperature</th>\n",
       "      <th>precipitation</th>\n",
       "      <th>humidity</th>\n",
       "      <th>cloudiness</th>\n",
       "      <th>pressure</th>\n",
       "      <th>temperature1</th>\n",
       "      <th>humidity1</th>\n",
       "      <th>lcz</th>\n",
       "      <th>1</th>\n",
       "      <th>2</th>\n",
       "      <th>...</th>\n",
       "      <th>max Wx</th>\n",
       "      <th>max Wy</th>\n",
       "      <th>timestamp_s</th>\n",
       "      <th>Day sin</th>\n",
       "      <th>Day cos</th>\n",
       "      <th>Year sin</th>\n",
       "      <th>Year cos</th>\n",
       "      <th>PM25</th>\n",
       "      <th>date</th>\n",
       "      <th>sensor</th>\n",
       "    </tr>\n",
       "  </thead>\n",
       "  <tbody>\n",
       "    <tr>\n",
       "      <th>0</th>\n",
       "      <td>-13</td>\n",
       "      <td>0</td>\n",
       "      <td>98</td>\n",
       "      <td>3</td>\n",
       "      <td>10057</td>\n",
       "      <td>10</td>\n",
       "      <td>91</td>\n",
       "      <td>5</td>\n",
       "      <td>0.0</td>\n",
       "      <td>0.23</td>\n",
       "      <td>...</td>\n",
       "      <td>-22.981333</td>\n",
       "      <td>-19.283628</td>\n",
       "      <td>1.609459e+09</td>\n",
       "      <td>-6.012051e-12</td>\n",
       "      <td>1.000000</td>\n",
       "      <td>0.010881</td>\n",
       "      <td>0.999941</td>\n",
       "      <td>61.3</td>\n",
       "      <td>2021-01-01</td>\n",
       "      <td>5</td>\n",
       "    </tr>\n",
       "    <tr>\n",
       "      <th>1</th>\n",
       "      <td>-18</td>\n",
       "      <td>0</td>\n",
       "      <td>98</td>\n",
       "      <td>5</td>\n",
       "      <td>10060</td>\n",
       "      <td>10</td>\n",
       "      <td>91</td>\n",
       "      <td>5</td>\n",
       "      <td>0.0</td>\n",
       "      <td>0.23</td>\n",
       "      <td>...</td>\n",
       "      <td>-28.190779</td>\n",
       "      <td>-10.260604</td>\n",
       "      <td>1.609463e+09</td>\n",
       "      <td>2.588190e-01</td>\n",
       "      <td>0.965926</td>\n",
       "      <td>0.011597</td>\n",
       "      <td>0.999933</td>\n",
       "      <td>319.9</td>\n",
       "      <td>2021-01-01</td>\n",
       "      <td>5</td>\n",
       "    </tr>\n",
       "    <tr>\n",
       "      <th>2</th>\n",
       "      <td>-12</td>\n",
       "      <td>0</td>\n",
       "      <td>98</td>\n",
       "      <td>2</td>\n",
       "      <td>10062</td>\n",
       "      <td>0</td>\n",
       "      <td>91</td>\n",
       "      <td>5</td>\n",
       "      <td>0.0</td>\n",
       "      <td>0.23</td>\n",
       "      <td>...</td>\n",
       "      <td>-25.980762</td>\n",
       "      <td>-15.000000</td>\n",
       "      <td>1.609466e+09</td>\n",
       "      <td>5.000000e-01</td>\n",
       "      <td>0.866025</td>\n",
       "      <td>0.012314</td>\n",
       "      <td>0.999924</td>\n",
       "      <td>121.3</td>\n",
       "      <td>2021-01-01</td>\n",
       "      <td>5</td>\n",
       "    </tr>\n",
       "    <tr>\n",
       "      <th>3</th>\n",
       "      <td>-6</td>\n",
       "      <td>0</td>\n",
       "      <td>98</td>\n",
       "      <td>8</td>\n",
       "      <td>10060</td>\n",
       "      <td>0</td>\n",
       "      <td>91</td>\n",
       "      <td>5</td>\n",
       "      <td>0.0</td>\n",
       "      <td>0.23</td>\n",
       "      <td>...</td>\n",
       "      <td>-22.981333</td>\n",
       "      <td>-19.283628</td>\n",
       "      <td>1.609470e+09</td>\n",
       "      <td>7.071068e-01</td>\n",
       "      <td>0.707107</td>\n",
       "      <td>0.013031</td>\n",
       "      <td>0.999915</td>\n",
       "      <td>119.0</td>\n",
       "      <td>2021-01-01</td>\n",
       "      <td>5</td>\n",
       "    </tr>\n",
       "    <tr>\n",
       "      <th>4</th>\n",
       "      <td>2</td>\n",
       "      <td>0</td>\n",
       "      <td>98</td>\n",
       "      <td>8</td>\n",
       "      <td>10061</td>\n",
       "      <td>0</td>\n",
       "      <td>91</td>\n",
       "      <td>5</td>\n",
       "      <td>0.0</td>\n",
       "      <td>0.23</td>\n",
       "      <td>...</td>\n",
       "      <td>-25.980762</td>\n",
       "      <td>-15.000000</td>\n",
       "      <td>1.609474e+09</td>\n",
       "      <td>8.660254e-01</td>\n",
       "      <td>0.500000</td>\n",
       "      <td>0.013747</td>\n",
       "      <td>0.999905</td>\n",
       "      <td>139.1</td>\n",
       "      <td>2021-01-01</td>\n",
       "      <td>5</td>\n",
       "    </tr>\n",
       "  </tbody>\n",
       "</table>\n",
       "<p>5 rows × 34 columns</p>\n",
       "</div>"
      ],
      "text/plain": [
       "   temperature  precipitation  humidity  cloudiness  pressure  temperature1  \\\n",
       "0          -13              0        98           3     10057            10   \n",
       "1          -18              0        98           5     10060            10   \n",
       "2          -12              0        98           2     10062             0   \n",
       "3           -6              0        98           8     10060             0   \n",
       "4            2              0        98           8     10061             0   \n",
       "\n",
       "   humidity1  lcz    1     2  ...     max Wx     max Wy   timestamp_s  \\\n",
       "0         91    5  0.0  0.23  ... -22.981333 -19.283628  1.609459e+09   \n",
       "1         91    5  0.0  0.23  ... -28.190779 -10.260604  1.609463e+09   \n",
       "2         91    5  0.0  0.23  ... -25.980762 -15.000000  1.609466e+09   \n",
       "3         91    5  0.0  0.23  ... -22.981333 -19.283628  1.609470e+09   \n",
       "4         91    5  0.0  0.23  ... -25.980762 -15.000000  1.609474e+09   \n",
       "\n",
       "        Day sin   Day cos  Year sin  Year cos   PM25        date  sensor  \n",
       "0 -6.012051e-12  1.000000  0.010881  0.999941   61.3  2021-01-01       5  \n",
       "1  2.588190e-01  0.965926  0.011597  0.999933  319.9  2021-01-01       5  \n",
       "2  5.000000e-01  0.866025  0.012314  0.999924  121.3  2021-01-01       5  \n",
       "3  7.071068e-01  0.707107  0.013031  0.999915  119.0  2021-01-01       5  \n",
       "4  8.660254e-01  0.500000  0.013747  0.999905  139.1  2021-01-01       5  \n",
       "\n",
       "[5 rows x 34 columns]"
      ]
     },
     "execution_count": 4,
     "metadata": {},
     "output_type": "execute_result"
    }
   ],
   "source": [
    "df.insert(0, stratification_column,\n",
    "          df.pop(stratification_column))\n",
    "\n",
    "df = pd.concat([df.pop(x)\n",
    "               for x in X_columns+[y_column, date, stratification_column]], axis=1)\n",
    "df.head()\n"
   ]
  },
  {
   "cell_type": "markdown",
   "metadata": {},
   "source": [
    "Describe"
   ]
  },
  {
   "cell_type": "code",
   "execution_count": 89,
   "metadata": {},
   "outputs": [
    {
     "name": "stdout",
     "output_type": "stream",
     "text": [
      "['temperature', 'precipitation', 'humidity', 'cloudiness', 'pressure', 'temperature1', 'humidity1', 'Wx', 'Wy', 'max Wx', 'max Wy', 'timestamp_s', 'Day sin', 'Day cos', 'Year sin', 'Year cos', 'PM25', 'date', 'sensor']\n"
     ]
    }
   ],
   "source": [
    "column_list = list(df.columns)  # Convert the columns attribute to a list\n",
    "\n",
    "print(column_list)  # Print the list of column names"
   ]
  },
  {
   "cell_type": "code",
   "execution_count": 5,
   "metadata": {},
   "outputs": [],
   "source": [
    "df = df[df[\"PM25\"] < 80]"
   ]
  },
  {
   "cell_type": "code",
   "execution_count": 6,
   "metadata": {},
   "outputs": [
    {
     "data": {
      "text/html": [
       "<div>\n",
       "<style scoped>\n",
       "    .dataframe tbody tr th:only-of-type {\n",
       "        vertical-align: middle;\n",
       "    }\n",
       "\n",
       "    .dataframe tbody tr th {\n",
       "        vertical-align: top;\n",
       "    }\n",
       "\n",
       "    .dataframe thead th {\n",
       "        text-align: right;\n",
       "    }\n",
       "</style>\n",
       "<table border=\"1\" class=\"dataframe\">\n",
       "  <thead>\n",
       "    <tr style=\"text-align: right;\">\n",
       "      <th></th>\n",
       "      <th>count</th>\n",
       "      <th>mean</th>\n",
       "      <th>std</th>\n",
       "      <th>min</th>\n",
       "      <th>25%</th>\n",
       "      <th>50%</th>\n",
       "      <th>75%</th>\n",
       "      <th>max</th>\n",
       "    </tr>\n",
       "  </thead>\n",
       "  <tbody>\n",
       "    <tr>\n",
       "      <th>temperature</th>\n",
       "      <td>373268.0</td>\n",
       "      <td>1.131604e+02</td>\n",
       "      <td>6.449613e+01</td>\n",
       "      <td>-9.700000e+01</td>\n",
       "      <td>6.600000e+01</td>\n",
       "      <td>1.110000e+02</td>\n",
       "      <td>1.610000e+02</td>\n",
       "      <td>3.540000e+02</td>\n",
       "    </tr>\n",
       "    <tr>\n",
       "      <th>precipitation</th>\n",
       "      <td>373268.0</td>\n",
       "      <td>8.640066e-01</td>\n",
       "      <td>5.452383e+00</td>\n",
       "      <td>-1.000000e+00</td>\n",
       "      <td>0.000000e+00</td>\n",
       "      <td>0.000000e+00</td>\n",
       "      <td>0.000000e+00</td>\n",
       "      <td>2.650000e+02</td>\n",
       "    </tr>\n",
       "    <tr>\n",
       "      <th>humidity</th>\n",
       "      <td>373268.0</td>\n",
       "      <td>7.854402e+01</td>\n",
       "      <td>1.466928e+01</td>\n",
       "      <td>2.200000e+01</td>\n",
       "      <td>6.900000e+01</td>\n",
       "      <td>8.200000e+01</td>\n",
       "      <td>9.000000e+01</td>\n",
       "      <td>1.000000e+02</td>\n",
       "    </tr>\n",
       "    <tr>\n",
       "      <th>cloudiness</th>\n",
       "      <td>373268.0</td>\n",
       "      <td>6.019600e+00</td>\n",
       "      <td>3.102797e+00</td>\n",
       "      <td>0.000000e+00</td>\n",
       "      <td>4.000000e+00</td>\n",
       "      <td>8.000000e+00</td>\n",
       "      <td>8.000000e+00</td>\n",
       "      <td>9.000000e+00</td>\n",
       "    </tr>\n",
       "    <tr>\n",
       "      <th>pressure</th>\n",
       "      <td>373268.0</td>\n",
       "      <td>1.016439e+04</td>\n",
       "      <td>9.982838e+01</td>\n",
       "      <td>9.797000e+03</td>\n",
       "      <td>1.010300e+04</td>\n",
       "      <td>1.017200e+04</td>\n",
       "      <td>1.023300e+04</td>\n",
       "      <td>1.045500e+04</td>\n",
       "    </tr>\n",
       "    <tr>\n",
       "      <th>temperature1</th>\n",
       "      <td>373268.0</td>\n",
       "      <td>1.382247e+02</td>\n",
       "      <td>6.804658e+01</td>\n",
       "      <td>-9.700000e+01</td>\n",
       "      <td>9.000000e+01</td>\n",
       "      <td>1.400000e+02</td>\n",
       "      <td>1.900000e+02</td>\n",
       "      <td>4.200000e+02</td>\n",
       "    </tr>\n",
       "    <tr>\n",
       "      <th>humidity1</th>\n",
       "      <td>373268.0</td>\n",
       "      <td>8.252659e+01</td>\n",
       "      <td>1.597395e+01</td>\n",
       "      <td>2.200000e+01</td>\n",
       "      <td>7.200000e+01</td>\n",
       "      <td>8.600000e+01</td>\n",
       "      <td>9.600000e+01</td>\n",
       "      <td>1.000000e+02</td>\n",
       "    </tr>\n",
       "    <tr>\n",
       "      <th>lcz</th>\n",
       "      <td>373268.0</td>\n",
       "      <td>6.817137e+00</td>\n",
       "      <td>3.184177e+00</td>\n",
       "      <td>2.000000e+00</td>\n",
       "      <td>5.000000e+00</td>\n",
       "      <td>6.000000e+00</td>\n",
       "      <td>9.000000e+00</td>\n",
       "      <td>1.500000e+01</td>\n",
       "    </tr>\n",
       "    <tr>\n",
       "      <th>1</th>\n",
       "      <td>373268.0</td>\n",
       "      <td>1.922380e-02</td>\n",
       "      <td>4.865879e-02</td>\n",
       "      <td>0.000000e+00</td>\n",
       "      <td>0.000000e+00</td>\n",
       "      <td>0.000000e+00</td>\n",
       "      <td>0.000000e+00</td>\n",
       "      <td>1.900000e-01</td>\n",
       "    </tr>\n",
       "    <tr>\n",
       "      <th>2</th>\n",
       "      <td>373268.0</td>\n",
       "      <td>6.015378e-02</td>\n",
       "      <td>1.365761e-01</td>\n",
       "      <td>0.000000e+00</td>\n",
       "      <td>0.000000e+00</td>\n",
       "      <td>0.000000e+00</td>\n",
       "      <td>3.000000e-02</td>\n",
       "      <td>5.100000e-01</td>\n",
       "    </tr>\n",
       "    <tr>\n",
       "      <th>3</th>\n",
       "      <td>373268.0</td>\n",
       "      <td>3.282824e-02</td>\n",
       "      <td>4.722588e-02</td>\n",
       "      <td>0.000000e+00</td>\n",
       "      <td>0.000000e+00</td>\n",
       "      <td>1.000000e-02</td>\n",
       "      <td>5.000000e-02</td>\n",
       "      <td>2.000000e-01</td>\n",
       "    </tr>\n",
       "    <tr>\n",
       "      <th>4</th>\n",
       "      <td>373268.0</td>\n",
       "      <td>1.125210e-01</td>\n",
       "      <td>1.830497e-01</td>\n",
       "      <td>0.000000e+00</td>\n",
       "      <td>0.000000e+00</td>\n",
       "      <td>2.000000e-02</td>\n",
       "      <td>1.500000e-01</td>\n",
       "      <td>6.600000e-01</td>\n",
       "    </tr>\n",
       "    <tr>\n",
       "      <th>5</th>\n",
       "      <td>373268.0</td>\n",
       "      <td>1.263190e-01</td>\n",
       "      <td>2.002379e-01</td>\n",
       "      <td>0.000000e+00</td>\n",
       "      <td>0.000000e+00</td>\n",
       "      <td>3.000000e-02</td>\n",
       "      <td>1.500000e-01</td>\n",
       "      <td>7.000000e-01</td>\n",
       "    </tr>\n",
       "    <tr>\n",
       "      <th>6</th>\n",
       "      <td>373268.0</td>\n",
       "      <td>3.521868e-01</td>\n",
       "      <td>3.699794e-01</td>\n",
       "      <td>0.000000e+00</td>\n",
       "      <td>0.000000e+00</td>\n",
       "      <td>2.100000e-01</td>\n",
       "      <td>8.000000e-01</td>\n",
       "      <td>9.100000e-01</td>\n",
       "    </tr>\n",
       "    <tr>\n",
       "      <th>8</th>\n",
       "      <td>373268.0</td>\n",
       "      <td>2.873268e-02</td>\n",
       "      <td>7.206360e-02</td>\n",
       "      <td>0.000000e+00</td>\n",
       "      <td>0.000000e+00</td>\n",
       "      <td>0.000000e+00</td>\n",
       "      <td>1.000000e-02</td>\n",
       "      <td>3.000000e-01</td>\n",
       "    </tr>\n",
       "    <tr>\n",
       "      <th>9</th>\n",
       "      <td>373268.0</td>\n",
       "      <td>8.285374e-02</td>\n",
       "      <td>2.515580e-01</td>\n",
       "      <td>0.000000e+00</td>\n",
       "      <td>0.000000e+00</td>\n",
       "      <td>0.000000e+00</td>\n",
       "      <td>0.000000e+00</td>\n",
       "      <td>9.000000e-01</td>\n",
       "    </tr>\n",
       "    <tr>\n",
       "      <th>10</th>\n",
       "      <td>373268.0</td>\n",
       "      <td>3.254980e-02</td>\n",
       "      <td>1.373022e-01</td>\n",
       "      <td>0.000000e+00</td>\n",
       "      <td>0.000000e+00</td>\n",
       "      <td>0.000000e+00</td>\n",
       "      <td>0.000000e+00</td>\n",
       "      <td>6.700000e-01</td>\n",
       "    </tr>\n",
       "    <tr>\n",
       "      <th>A</th>\n",
       "      <td>373268.0</td>\n",
       "      <td>6.606995e-03</td>\n",
       "      <td>2.133136e-02</td>\n",
       "      <td>0.000000e+00</td>\n",
       "      <td>0.000000e+00</td>\n",
       "      <td>0.000000e+00</td>\n",
       "      <td>0.000000e+00</td>\n",
       "      <td>8.000000e-02</td>\n",
       "    </tr>\n",
       "    <tr>\n",
       "      <th>B</th>\n",
       "      <td>373268.0</td>\n",
       "      <td>5.229320e-02</td>\n",
       "      <td>1.879640e-01</td>\n",
       "      <td>0.000000e+00</td>\n",
       "      <td>0.000000e+00</td>\n",
       "      <td>0.000000e+00</td>\n",
       "      <td>0.000000e+00</td>\n",
       "      <td>8.800000e-01</td>\n",
       "    </tr>\n",
       "    <tr>\n",
       "      <th>D</th>\n",
       "      <td>373268.0</td>\n",
       "      <td>2.858949e-02</td>\n",
       "      <td>1.343568e-01</td>\n",
       "      <td>0.000000e+00</td>\n",
       "      <td>0.000000e+00</td>\n",
       "      <td>0.000000e+00</td>\n",
       "      <td>0.000000e+00</td>\n",
       "      <td>6.600000e-01</td>\n",
       "    </tr>\n",
       "    <tr>\n",
       "      <th>E</th>\n",
       "      <td>373268.0</td>\n",
       "      <td>1.975589e-02</td>\n",
       "      <td>1.013800e-01</td>\n",
       "      <td>0.000000e+00</td>\n",
       "      <td>0.000000e+00</td>\n",
       "      <td>0.000000e+00</td>\n",
       "      <td>0.000000e+00</td>\n",
       "      <td>5.400000e-01</td>\n",
       "    </tr>\n",
       "    <tr>\n",
       "      <th>traffic</th>\n",
       "      <td>373268.0</td>\n",
       "      <td>7.203816e+01</td>\n",
       "      <td>3.081572e+01</td>\n",
       "      <td>1.510000e+01</td>\n",
       "      <td>5.500000e+01</td>\n",
       "      <td>7.890000e+01</td>\n",
       "      <td>9.250000e+01</td>\n",
       "      <td>1.242000e+02</td>\n",
       "    </tr>\n",
       "    <tr>\n",
       "      <th>Wx</th>\n",
       "      <td>373268.0</td>\n",
       "      <td>-7.080278e+00</td>\n",
       "      <td>3.620532e+01</td>\n",
       "      <td>-1.761902e+02</td>\n",
       "      <td>-3.213938e+01</td>\n",
       "      <td>-2.204364e-14</td>\n",
       "      <td>1.928363e+01</td>\n",
       "      <td>1.299038e+02</td>\n",
       "    </tr>\n",
       "    <tr>\n",
       "      <th>Wy</th>\n",
       "      <td>373268.0</td>\n",
       "      <td>-9.657439e+00</td>\n",
       "      <td>3.747575e+01</td>\n",
       "      <td>-1.969616e+02</td>\n",
       "      <td>-3.064178e+01</td>\n",
       "      <td>-6.840403e+00</td>\n",
       "      <td>1.532089e+01</td>\n",
       "      <td>1.212436e+02</td>\n",
       "    </tr>\n",
       "    <tr>\n",
       "      <th>max Wx</th>\n",
       "      <td>373268.0</td>\n",
       "      <td>-9.959048e+00</td>\n",
       "      <td>5.241192e+01</td>\n",
       "      <td>-2.300000e+02</td>\n",
       "      <td>-5.196152e+01</td>\n",
       "      <td>-2.939152e-14</td>\n",
       "      <td>3.500000e+01</td>\n",
       "      <td>1.472243e+02</td>\n",
       "    </tr>\n",
       "    <tr>\n",
       "      <th>max Wy</th>\n",
       "      <td>373268.0</td>\n",
       "      <td>-1.371694e+01</td>\n",
       "      <td>5.170891e+01</td>\n",
       "      <td>-2.265058e+02</td>\n",
       "      <td>-5.196152e+01</td>\n",
       "      <td>-1.215537e+01</td>\n",
       "      <td>3.000000e+01</td>\n",
       "      <td>1.315570e+02</td>\n",
       "    </tr>\n",
       "    <tr>\n",
       "      <th>timestamp_s</th>\n",
       "      <td>373268.0</td>\n",
       "      <td>1.642196e+09</td>\n",
       "      <td>1.810706e+07</td>\n",
       "      <td>1.609459e+09</td>\n",
       "      <td>1.626628e+09</td>\n",
       "      <td>1.642954e+09</td>\n",
       "      <td>1.657984e+09</td>\n",
       "      <td>1.672528e+09</td>\n",
       "    </tr>\n",
       "    <tr>\n",
       "      <th>Day sin</th>\n",
       "      <td>373268.0</td>\n",
       "      <td>-8.103447e-03</td>\n",
       "      <td>7.067542e-01</td>\n",
       "      <td>-1.000000e+00</td>\n",
       "      <td>-7.071068e-01</td>\n",
       "      <td>-9.627644e-13</td>\n",
       "      <td>7.071068e-01</td>\n",
       "      <td>1.000000e+00</td>\n",
       "    </tr>\n",
       "    <tr>\n",
       "      <th>Day cos</th>\n",
       "      <td>373268.0</td>\n",
       "      <td>-3.569720e-03</td>\n",
       "      <td>7.074057e-01</td>\n",
       "      <td>-1.000000e+00</td>\n",
       "      <td>-7.071068e-01</td>\n",
       "      <td>-5.672930e-13</td>\n",
       "      <td>7.071068e-01</td>\n",
       "      <td>1.000000e+00</td>\n",
       "    </tr>\n",
       "    <tr>\n",
       "      <th>Year sin</th>\n",
       "      <td>373268.0</td>\n",
       "      <td>-1.092053e-02</td>\n",
       "      <td>7.062965e-01</td>\n",
       "      <td>-1.000000e+00</td>\n",
       "      <td>-7.156266e-01</td>\n",
       "      <td>-3.186275e-02</td>\n",
       "      <td>6.952624e-01</td>\n",
       "      <td>1.000000e+00</td>\n",
       "    </tr>\n",
       "    <tr>\n",
       "      <th>Year cos</th>\n",
       "      <td>373268.0</td>\n",
       "      <td>-4.819532e-03</td>\n",
       "      <td>7.078174e-01</td>\n",
       "      <td>-1.000000e+00</td>\n",
       "      <td>-7.147574e-01</td>\n",
       "      <td>-4.304265e-03</td>\n",
       "      <td>7.022078e-01</td>\n",
       "      <td>1.000000e+00</td>\n",
       "    </tr>\n",
       "    <tr>\n",
       "      <th>PM25</th>\n",
       "      <td>373268.0</td>\n",
       "      <td>1.048137e+01</td>\n",
       "      <td>9.139720e+00</td>\n",
       "      <td>0.000000e+00</td>\n",
       "      <td>4.000000e+00</td>\n",
       "      <td>8.000000e+00</td>\n",
       "      <td>1.350000e+01</td>\n",
       "      <td>7.930000e+01</td>\n",
       "    </tr>\n",
       "    <tr>\n",
       "      <th>sensor</th>\n",
       "      <td>373268.0</td>\n",
       "      <td>1.195081e+01</td>\n",
       "      <td>6.777369e+00</td>\n",
       "      <td>1.000000e+00</td>\n",
       "      <td>6.000000e+00</td>\n",
       "      <td>1.200000e+01</td>\n",
       "      <td>1.800000e+01</td>\n",
       "      <td>2.500000e+01</td>\n",
       "    </tr>\n",
       "  </tbody>\n",
       "</table>\n",
       "</div>"
      ],
      "text/plain": [
       "                  count          mean           std           min  \\\n",
       "temperature    373268.0  1.131604e+02  6.449613e+01 -9.700000e+01   \n",
       "precipitation  373268.0  8.640066e-01  5.452383e+00 -1.000000e+00   \n",
       "humidity       373268.0  7.854402e+01  1.466928e+01  2.200000e+01   \n",
       "cloudiness     373268.0  6.019600e+00  3.102797e+00  0.000000e+00   \n",
       "pressure       373268.0  1.016439e+04  9.982838e+01  9.797000e+03   \n",
       "temperature1   373268.0  1.382247e+02  6.804658e+01 -9.700000e+01   \n",
       "humidity1      373268.0  8.252659e+01  1.597395e+01  2.200000e+01   \n",
       "lcz            373268.0  6.817137e+00  3.184177e+00  2.000000e+00   \n",
       "1              373268.0  1.922380e-02  4.865879e-02  0.000000e+00   \n",
       "2              373268.0  6.015378e-02  1.365761e-01  0.000000e+00   \n",
       "3              373268.0  3.282824e-02  4.722588e-02  0.000000e+00   \n",
       "4              373268.0  1.125210e-01  1.830497e-01  0.000000e+00   \n",
       "5              373268.0  1.263190e-01  2.002379e-01  0.000000e+00   \n",
       "6              373268.0  3.521868e-01  3.699794e-01  0.000000e+00   \n",
       "8              373268.0  2.873268e-02  7.206360e-02  0.000000e+00   \n",
       "9              373268.0  8.285374e-02  2.515580e-01  0.000000e+00   \n",
       "10             373268.0  3.254980e-02  1.373022e-01  0.000000e+00   \n",
       "A              373268.0  6.606995e-03  2.133136e-02  0.000000e+00   \n",
       "B              373268.0  5.229320e-02  1.879640e-01  0.000000e+00   \n",
       "D              373268.0  2.858949e-02  1.343568e-01  0.000000e+00   \n",
       "E              373268.0  1.975589e-02  1.013800e-01  0.000000e+00   \n",
       "traffic        373268.0  7.203816e+01  3.081572e+01  1.510000e+01   \n",
       "Wx             373268.0 -7.080278e+00  3.620532e+01 -1.761902e+02   \n",
       "Wy             373268.0 -9.657439e+00  3.747575e+01 -1.969616e+02   \n",
       "max Wx         373268.0 -9.959048e+00  5.241192e+01 -2.300000e+02   \n",
       "max Wy         373268.0 -1.371694e+01  5.170891e+01 -2.265058e+02   \n",
       "timestamp_s    373268.0  1.642196e+09  1.810706e+07  1.609459e+09   \n",
       "Day sin        373268.0 -8.103447e-03  7.067542e-01 -1.000000e+00   \n",
       "Day cos        373268.0 -3.569720e-03  7.074057e-01 -1.000000e+00   \n",
       "Year sin       373268.0 -1.092053e-02  7.062965e-01 -1.000000e+00   \n",
       "Year cos       373268.0 -4.819532e-03  7.078174e-01 -1.000000e+00   \n",
       "PM25           373268.0  1.048137e+01  9.139720e+00  0.000000e+00   \n",
       "sensor         373268.0  1.195081e+01  6.777369e+00  1.000000e+00   \n",
       "\n",
       "                        25%           50%           75%           max  \n",
       "temperature    6.600000e+01  1.110000e+02  1.610000e+02  3.540000e+02  \n",
       "precipitation  0.000000e+00  0.000000e+00  0.000000e+00  2.650000e+02  \n",
       "humidity       6.900000e+01  8.200000e+01  9.000000e+01  1.000000e+02  \n",
       "cloudiness     4.000000e+00  8.000000e+00  8.000000e+00  9.000000e+00  \n",
       "pressure       1.010300e+04  1.017200e+04  1.023300e+04  1.045500e+04  \n",
       "temperature1   9.000000e+01  1.400000e+02  1.900000e+02  4.200000e+02  \n",
       "humidity1      7.200000e+01  8.600000e+01  9.600000e+01  1.000000e+02  \n",
       "lcz            5.000000e+00  6.000000e+00  9.000000e+00  1.500000e+01  \n",
       "1              0.000000e+00  0.000000e+00  0.000000e+00  1.900000e-01  \n",
       "2              0.000000e+00  0.000000e+00  3.000000e-02  5.100000e-01  \n",
       "3              0.000000e+00  1.000000e-02  5.000000e-02  2.000000e-01  \n",
       "4              0.000000e+00  2.000000e-02  1.500000e-01  6.600000e-01  \n",
       "5              0.000000e+00  3.000000e-02  1.500000e-01  7.000000e-01  \n",
       "6              0.000000e+00  2.100000e-01  8.000000e-01  9.100000e-01  \n",
       "8              0.000000e+00  0.000000e+00  1.000000e-02  3.000000e-01  \n",
       "9              0.000000e+00  0.000000e+00  0.000000e+00  9.000000e-01  \n",
       "10             0.000000e+00  0.000000e+00  0.000000e+00  6.700000e-01  \n",
       "A              0.000000e+00  0.000000e+00  0.000000e+00  8.000000e-02  \n",
       "B              0.000000e+00  0.000000e+00  0.000000e+00  8.800000e-01  \n",
       "D              0.000000e+00  0.000000e+00  0.000000e+00  6.600000e-01  \n",
       "E              0.000000e+00  0.000000e+00  0.000000e+00  5.400000e-01  \n",
       "traffic        5.500000e+01  7.890000e+01  9.250000e+01  1.242000e+02  \n",
       "Wx            -3.213938e+01 -2.204364e-14  1.928363e+01  1.299038e+02  \n",
       "Wy            -3.064178e+01 -6.840403e+00  1.532089e+01  1.212436e+02  \n",
       "max Wx        -5.196152e+01 -2.939152e-14  3.500000e+01  1.472243e+02  \n",
       "max Wy        -5.196152e+01 -1.215537e+01  3.000000e+01  1.315570e+02  \n",
       "timestamp_s    1.626628e+09  1.642954e+09  1.657984e+09  1.672528e+09  \n",
       "Day sin       -7.071068e-01 -9.627644e-13  7.071068e-01  1.000000e+00  \n",
       "Day cos       -7.071068e-01 -5.672930e-13  7.071068e-01  1.000000e+00  \n",
       "Year sin      -7.156266e-01 -3.186275e-02  6.952624e-01  1.000000e+00  \n",
       "Year cos      -7.147574e-01 -4.304265e-03  7.022078e-01  1.000000e+00  \n",
       "PM25           4.000000e+00  8.000000e+00  1.350000e+01  7.930000e+01  \n",
       "sensor         6.000000e+00  1.200000e+01  1.800000e+01  2.500000e+01  "
      ]
     },
     "execution_count": 6,
     "metadata": {},
     "output_type": "execute_result"
    }
   ],
   "source": [
    "df.describe().transpose()"
   ]
  },
  {
   "cell_type": "markdown",
   "metadata": {},
   "source": [
    "### Split train and test\n",
    "#### separate two last months data for testing set"
   ]
  },
  {
   "cell_type": "code",
   "execution_count": 7,
   "metadata": {},
   "outputs": [
    {
     "name": "stdout",
     "output_type": "stream",
     "text": [
      "Number of train records: 339690\n",
      "Number of test records: 33578\n"
     ]
    }
   ],
   "source": [
    "import pandas as pd\n",
    "\n",
    "# Assuming your date column is already in datetime format\n",
    "df['date'] = pd.to_datetime(df['date'])\n",
    "\n",
    "cut_line = pd.to_datetime('2022-11-01')\n",
    "\n",
    "training_mask = df['date'] < cut_line\n",
    "test_mask = (df['date'] >= cut_line) & (df['date'] <= '2022-12-31')\n",
    "\n",
    "train_df = df[training_mask]\n",
    "print(f\"Number of train records: {train_df.shape[0]}\")\n",
    "\n",
    "test_df = df[test_mask]\n",
    "print(f\"Number of test records: {test_df.shape[0]}\")\n"
   ]
  },
  {
   "cell_type": "markdown",
   "metadata": {},
   "source": [
    "## Normalization"
   ]
  },
  {
   "cell_type": "code",
   "execution_count": 8,
   "metadata": {},
   "outputs": [
    {
     "name": "stderr",
     "output_type": "stream",
     "text": [
      "/tmp/ipykernel_386/3923520792.py:3: SettingWithCopyWarning: \n",
      "A value is trying to be set on a copy of a slice from a DataFrame.\n",
      "Try using .loc[row_indexer,col_indexer] = value instead\n",
      "\n",
      "See the caveats in the documentation: https://pandas.pydata.org/pandas-docs/stable/user_guide/indexing.html#returning-a-view-versus-a-copy\n",
      "  train_df[X_columns] = (train_df[X_columns] - t_mean) / t_std\n",
      "/tmp/ipykernel_386/3923520792.py:4: SettingWithCopyWarning: \n",
      "A value is trying to be set on a copy of a slice from a DataFrame.\n",
      "Try using .loc[row_indexer,col_indexer] = value instead\n",
      "\n",
      "See the caveats in the documentation: https://pandas.pydata.org/pandas-docs/stable/user_guide/indexing.html#returning-a-view-versus-a-copy\n",
      "  test_df[X_columns] = (test_df[X_columns] - t_mean) / t_std\n"
     ]
    }
   ],
   "source": [
    "t_mean = train_df[X_columns].mean()\n",
    "t_std = train_df[X_columns].std()\n",
    "train_df[X_columns] = (train_df[X_columns] - t_mean) / t_std\n",
    "test_df[X_columns] = (test_df[X_columns] - t_mean) / t_std"
   ]
  },
  {
   "cell_type": "code",
   "execution_count": 9,
   "metadata": {},
   "outputs": [],
   "source": [
    "#remove the date column\n",
    "\n",
    "train_df = train_df.drop('date', axis=1)\n",
    "test_df = test_df.drop('date', axis=1)"
   ]
  },
  {
   "cell_type": "markdown",
   "metadata": {},
   "source": [
    "## Windowing"
   ]
  },
  {
   "cell_type": "code",
   "execution_count": 11,
   "metadata": {},
   "outputs": [],
   "source": [
    "class WindowGenerator():\n",
    "    def __init__(self, input_width, label_width, shift,\n",
    "                 train_df=train_df, test_df=test_df,\n",
    "                 label_columns=None, stratification_column=None):\n",
    "        # Store the raw data.\n",
    "        self.train_df = train_df\n",
    "        self.test_df = test_df\n",
    "\n",
    "        # Work out the label column indices.\n",
    "        self. label_columns =  label_columns\n",
    "        if  label_columns is not None:\n",
    "            self. label_columns_indices = {name: i for i, name in\n",
    "                                          enumerate (label_columns)}\n",
    "        self.column_indices = {name: i for i, name in\n",
    "                               enumerate(train_df.columns)}\n",
    "\n",
    "        # Work out the window parameters.\n",
    "        self.input_width = input_width\n",
    "        self.label_width = label_width\n",
    "        self.shift = shift\n",
    "\n",
    "        # stratification_column\n",
    "        self.stratification_column = stratification_column\n",
    "        if not self.stratification_column is None:\n",
    "            # ToDo: Check if the stratification_column is the last column or not. If not throw an exception\n",
    "            pass\n",
    "\n",
    "        self.total_window_size = input_width + shift\n",
    "\n",
    "        self.input_slice = slice(0, input_width)\n",
    "        self.input_indices = np.arange(self.total_window_size)[\n",
    "            self.input_slice]\n",
    "\n",
    "        self.label_start = self.total_window_size - self.label_width\n",
    "        self.labels_slice = slice(self.label_start, None)\n",
    "        self.label_indices = np.arange(self.total_window_size)[\n",
    "            self.labels_slice]\n",
    "\n",
    "    def __repr__(self):\n",
    "        return '\\n'.join([\n",
    "            f'Total window size: {self.total_window_size}',\n",
    "            f'Input indices: {self.input_indices}',\n",
    "            f'Label indices: {self.label_indices}',\n",
    "            f'Label column name(s): {self. label_columns}'])\n",
    "\n",
    "\n",
    "def split_window(self, features):\n",
    "    inputs = features[:, self.input_slice, :]\n",
    "    labels = features[:, self.labels_slice, :]\n",
    "    if self. label_columns is not None:\n",
    "        labels = tf.stack([labels[:, :, self.column_indices[name]]\n",
    "                           for name in self. label_columns], axis=-1)\n",
    "\n",
    "    # Slicing doesn't preserve static shape information, so set the shapes\n",
    "    # manually. This way the `tf.data.Datasets` are easier to inspect.\n",
    "    inputs.set_shape([None, self.input_width, None])\n",
    "    labels.set_shape([None, self.label_width, None])\n",
    "\n",
    "    return inputs, labels\n",
    "\n",
    "\n",
    "def make_dataset(self, data):\n",
    "\n",
    "    def make_timeseries_dataset(data):\n",
    "        data_np = None\n",
    "        data_np = np.array(data, dtype=np.float32)\n",
    "        ds = tf.keras.utils.timeseries_dataset_from_array(\n",
    "            data=data_np,\n",
    "            targets=None,\n",
    "            sequence_length=self.total_window_size,\n",
    "            sequence_stride=1,\n",
    "            shuffle=False,\n",
    "            batch_size=128,)\n",
    "\n",
    "        return ds.map(self.split_window)\n",
    "\n",
    "    if self.stratification_column is None:\n",
    "        return make_timeseries_dataset(data)\n",
    "    else:\n",
    "        ds = None\n",
    "        gb = data.groupby([self.stratification_column])\n",
    "        for group_name, df_group in gb:\n",
    "            if ds is None:\n",
    "                ds = df_group.drop(columns=[self.stratification_column])\n",
    "                ds = make_timeseries_dataset(ds)\n",
    "            else:\n",
    "                n_ds = df_group.drop(columns=[self.stratification_column])\n",
    "                ds = ds.concatenate(make_timeseries_dataset(n_ds))\n",
    "\n",
    "        return ds\n",
    "\n",
    "\n",
    "@property\n",
    "def train(self):\n",
    "    return self.make_dataset(self.train_df)\n",
    "\n",
    "\n",
    "@property\n",
    "def test(self):\n",
    "    return self.make_dataset(self.test_df)\n",
    "\n",
    "\n",
    "@property\n",
    "def example(self):\n",
    "    \"\"\"Get and cache an example batch of `inputs, labels` for plotting.\"\"\"\n",
    "    result = getattr(self, '_example', None)\n",
    "    if result is None:\n",
    "        # No example batch was found, so get one from the `.train` dataset\n",
    "        result = next(iter(self.train))\n",
    "        # And cache it for next time\n",
    "        self._example = result\n",
    "    return result\n",
    "\n",
    "\n",
    "WindowGenerator.split_window = split_window\n",
    "WindowGenerator.make_dataset = make_dataset\n",
    "WindowGenerator.train = train\n",
    "WindowGenerator.test = test\n",
    "WindowGenerator.example = example"
   ]
  },
  {
   "cell_type": "code",
   "execution_count": 12,
   "metadata": {},
   "outputs": [
    {
     "data": {
      "text/plain": [
       "Total window size: 25\n",
       "Input indices: [ 0  1  2  3  4  5  6  7  8  9 10 11 12 13 14 15 16 17 18 19 20 21 22 23]\n",
       "Label indices: [24]\n",
       "Label column name(s): ['PM25']"
      ]
     },
     "execution_count": 12,
     "metadata": {},
     "output_type": "execute_result"
    }
   ],
   "source": [
    "wide_window = WindowGenerator(\n",
    "    input_width=24, label_width=1, shift=1,\n",
    "     label_columns=['PM25'], stratification_column=stratification_column)\n",
    "wide_window"
   ]
  },
  {
   "cell_type": "code",
   "execution_count": 13,
   "metadata": {},
   "outputs": [
    {
     "name": "stderr",
     "output_type": "stream",
     "text": [
      "2023-06-27 20:01:02.286910: W tensorflow/core/common_runtime/gpu/gpu_bfc_allocator.cc:42] Overriding orig_value setting because the TF_FORCE_GPU_ALLOW_GROWTH environment variable is set. Original config value was 0.\n"
     ]
    }
   ],
   "source": [
    "test_dataset = wide_window.test"
   ]
  },
  {
   "cell_type": "markdown",
   "metadata": {},
   "source": [
    "## Load Models trained with all variables"
   ]
  },
  {
   "cell_type": "code",
   "execution_count": 14,
   "metadata": {},
   "outputs": [],
   "source": [
    "from tensorflow.keras.models import load_model\n",
    "\n",
    "# Load the saved model\n",
    "lstm_model = load_model('lstm_model_best_weights5')\n",
    "\n",
    "# Load the best weights\n",
    "lstm_model.load_weights('lstm_best_weights5.h5')"
   ]
  },
  {
   "cell_type": "code",
   "execution_count": null,
   "metadata": {},
   "outputs": [],
   "source": [
    "test_results = lstm_model.evaluate(test_dataset, verbose=1)\n",
    "print(\n",
    "        f'Test measures (best epoch): {test_results}')\n",
    "y_pred_all = lstm_model.predict(test_dataset)"
   ]
  },
  {
   "cell_type": "code",
   "execution_count": 18,
   "metadata": {},
   "outputs": [],
   "source": [
    "y_test = []\n",
    "for inputs, targets in test_dataset:\n",
    "    [y_test.append(x) for x in targets.numpy().flatten()]"
   ]
  },
  {
   "cell_type": "code",
   "execution_count": 19,
   "metadata": {},
   "outputs": [
    {
     "name": "stdout",
     "output_type": "stream",
     "text": [
      "Testing RMSE: 5.1560836\n",
      "Testing R-squared: 0.7493122266522099\n"
     ]
    }
   ],
   "source": [
    "from sklearn.metrics import mean_squared_error, r2_score\n",
    "\n",
    "# Calculate RMSE for testing set\n",
    "\n",
    "test_rmse = np.sqrt(mean_squared_error(y_test, y_pred_all))\n",
    "print(\"Testing RMSE:\", test_rmse)\n",
    "\n",
    "# Calculate R-squared for testing set\n",
    "test_r2 = r2_score(y_test, y_pred_all)\n",
    "print(\"Testing R-squared:\", test_r2)"
   ]
  },
  {
   "cell_type": "markdown",
   "metadata": {},
   "source": [
    "## Load Models trained without lcz"
   ]
  },
  {
   "cell_type": "code",
   "execution_count": 49,
   "metadata": {},
   "outputs": [],
   "source": [
    "from tensorflow.keras.models import load_model\n",
    "\n",
    "# Load the saved model\n",
    "lstm_model = load_model('lstm_model_no_lcz')\n",
    "\n",
    "# Load the best weights\n",
    "lstm_model.load_weights('lstm_weights_no_lcz.h5')"
   ]
  },
  {
   "cell_type": "code",
   "execution_count": 65,
   "metadata": {},
   "outputs": [
    {
     "name": "stdout",
     "output_type": "stream",
     "text": [
      "270/270 [==============================] - 7s 12ms/step - loss: 27.5821 - mae: 3.2484\n",
      "Test measures (best epoch): [27.58213233947754, 3.2484073638916016]\n",
      "270/270 [==============================] - 5s 11ms/step\n"
     ]
    }
   ],
   "source": [
    "test_results = lstm_model.evaluate(test_dataset, verbose=1)\n",
    "print(\n",
    "        f'Test measures (best epoch): {test_results}')\n",
    "y_pred_no_lcz = lstm_model.predict(test_dataset)"
   ]
  },
  {
   "cell_type": "code",
   "execution_count": 66,
   "metadata": {},
   "outputs": [],
   "source": [
    "y_test = []\n",
    "for inputs, targets in test_dataset:\n",
    "    [y_test.append(x) for x in targets.numpy().flatten()]"
   ]
  },
  {
   "cell_type": "code",
   "execution_count": 67,
   "metadata": {},
   "outputs": [
    {
     "name": "stdout",
     "output_type": "stream",
     "text": [
      "Testing RMSE: 5.1560836\n",
      "Testing R-squared: 0.7493122266522099\n"
     ]
    }
   ],
   "source": [
    "from sklearn.metrics import mean_squared_error, r2_score\n",
    "\n",
    "# Calculate RMSE for testing set\n",
    "\n",
    "test_rmse = np.sqrt(mean_squared_error(y_test, y_pred_all))\n",
    "print(\"Testing RMSE:\", test_rmse)\n",
    "\n",
    "# Calculate R-squared for testing set\n",
    "test_r2 = r2_score(y_test, y_pred_all)\n",
    "print(\"Testing R-squared:\", test_r2)"
   ]
  },
  {
   "cell_type": "markdown",
   "metadata": {},
   "source": [
    "## Load Models trained without lcz and traffic"
   ]
  },
  {
   "cell_type": "code",
   "execution_count": 85,
   "metadata": {},
   "outputs": [],
   "source": [
    "from tensorflow.keras.models import load_model\n",
    "\n",
    "# Load the saved model\n",
    "lstm_model = load_model('lstm_model_no_lcz_traffic')\n",
    "\n",
    "# Load the best weights\n",
    "lstm_model.load_weights('lstm_weights_no_lcz_traffic.h5')"
   ]
  },
  {
   "cell_type": "code",
   "execution_count": 100,
   "metadata": {},
   "outputs": [
    {
     "name": "stdout",
     "output_type": "stream",
     "text": [
      "270/270 [==============================] - 5s 12ms/step - loss: 27.4382 - mae: 3.2381\n",
      "Test measures (best epoch): [27.43816566467285, 3.2381343841552734]\n",
      "270/270 [==============================] - 6s 12ms/step\n"
     ]
    }
   ],
   "source": [
    "test_results = lstm_model.evaluate(test_dataset, verbose=1)\n",
    "print(\n",
    "        f'Test measures (best epoch): {test_results}')\n",
    "y_pred_no_lcz_traffic = lstm_model.predict(test_dataset)"
   ]
  },
  {
   "cell_type": "code",
   "execution_count": 101,
   "metadata": {},
   "outputs": [],
   "source": [
    "y_test = []\n",
    "for inputs, targets in test_dataset:\n",
    "    [y_test.append(x) for x in targets.numpy().flatten()]"
   ]
  },
  {
   "cell_type": "code",
   "execution_count": 103,
   "metadata": {},
   "outputs": [
    {
     "name": "stdout",
     "output_type": "stream",
     "text": [
      "Testing RMSE: 5.1560836\n",
      "Testing R-squared: 0.7493122266522099\n"
     ]
    }
   ],
   "source": [
    "from sklearn.metrics import mean_squared_error, r2_score\n",
    "\n",
    "# Calculate RMSE for testing set\n",
    "\n",
    "test_rmse = np.sqrt(mean_squared_error(y_test, y_pred_all))\n",
    "print(\"Testing RMSE:\", test_rmse)\n",
    "\n",
    "# Calculate R-squared for testing set\n",
    "test_r2 = r2_score(y_test, y_pred_all)\n",
    "print(\"Testing R-squared:\", test_r2)"
   ]
  },
  {
   "cell_type": "code",
   "execution_count": 71,
   "metadata": {},
   "outputs": [
    {
     "data": {
      "text/plain": [
       "array([[16.004837],\n",
       "       [18.822025],\n",
       "       [16.860312],\n",
       "       [17.390059],\n",
       "       [17.574558]], dtype=float32)"
      ]
     },
     "execution_count": 71,
     "metadata": {},
     "output_type": "execute_result"
    }
   ],
   "source": [
    "y_pred_all[0:5]"
   ]
  },
  {
   "cell_type": "code",
   "execution_count": 72,
   "metadata": {},
   "outputs": [
    {
     "data": {
      "text/plain": [
       "array([[15.028028],\n",
       "       [21.330236],\n",
       "       [14.803423],\n",
       "       [20.680353],\n",
       "       [23.644236]], dtype=float32)"
      ]
     },
     "execution_count": 72,
     "metadata": {},
     "output_type": "execute_result"
    }
   ],
   "source": [
    "y_pred_no_lcz[0:5]"
   ]
  },
  {
   "cell_type": "code",
   "execution_count": 105,
   "metadata": {},
   "outputs": [
    {
     "data": {
      "text/plain": [
       "array([[13.848376],\n",
       "       [16.352495],\n",
       "       [21.099884],\n",
       "       [18.360502],\n",
       "       [20.168491]], dtype=float32)"
      ]
     },
     "execution_count": 105,
     "metadata": {},
     "output_type": "execute_result"
    }
   ],
   "source": [
    "y_pred_no_lcz_traffic[0:5]"
   ]
  },
  {
   "cell_type": "code",
   "execution_count": 104,
   "metadata": {},
   "outputs": [
    {
     "data": {
      "text/plain": [
       "[19.2, 22.4, 19.6, 21.5, 19.7]"
      ]
     },
     "execution_count": 104,
     "metadata": {},
     "output_type": "execute_result"
    }
   ],
   "source": [
    "y_test[0:5]"
   ]
  },
  {
   "cell_type": "code",
   "execution_count": 106,
   "metadata": {},
   "outputs": [
    {
     "name": "stdout",
     "output_type": "stream",
     "text": [
      "Mean residual (all variables included): -0.27986515\n",
      "Mean residual (without LCZ variable): -0.10518757\n",
      "Mean residual (without LCZ and traffic variable): -0.24408056\n",
      "Median residual (all variables included): 0.105097175\n",
      "Median residual (without LCZ variable): 0.24489951\n",
      "Median residual (without LCZ and traffic variable): 0.14322948\n"
     ]
    }
   ],
   "source": [
    "import numpy as np\n",
    "\n",
    "# Calculate the residuals\n",
    "residuals_all = y_pred_all.flatten() - y_test\n",
    "residuals_no_lcz = y_pred_no_lcz.flatten() - y_test\n",
    "residuals_no_lcz_traffic = y_pred_no_lcz_traffic.flatten() - y_test\n",
    "\n",
    "# Calculate the mean and median residuals\n",
    "mean_residual_all = np.mean(residuals_all)\n",
    "mean_residual_no_lcz = np.mean(residuals_no_lcz)\n",
    "mean_residual_no_lcz_traffic = np.mean(residuals_no_lcz_traffic)\n",
    "median_residual_all = np.median(residuals_all)\n",
    "median_residual_no_lcz = np.median(residuals_no_lcz)\n",
    "median_residual_no_lcz_traffic = np.median(residuals_no_lcz_traffic)\n",
    "\n",
    "# Print the results\n",
    "print(\"Mean residual (all variables included):\", mean_residual_all)\n",
    "print(\"Mean residual (without LCZ variable):\", mean_residual_no_lcz)\n",
    "print(\"Mean residual (without LCZ and traffic variable):\", mean_residual_no_lcz_traffic)\n",
    "print(\"Median residual (all variables included):\", median_residual_all)\n",
    "print(\"Median residual (without LCZ variable):\", median_residual_no_lcz)\n",
    "print(\"Median residual (without LCZ and traffic variable):\", median_residual_no_lcz_traffic)\n"
   ]
  },
  {
   "cell_type": "code",
   "execution_count": 110,
   "metadata": {},
   "outputs": [
    {
     "data": {
      "image/png": "[encoded data removed]",
      "text/plain": [
       "<Figure size 640x480 with 1 Axes>"
      ]
     },
     "metadata": {},
     "output_type": "display_data"
    }
   ],
   "source": [
    "import matplotlib.pyplot as plt\n",
    "\n",
    "# Prepare x-axis values (time) based on the length of y_test\n",
    "x = range(len(y_test))\n",
    "\n",
    "# Plot the actual values (y_test) in blue\n",
    "plt.plot(x, y_test, color='green', label='Actual')\n",
    "\n",
    "# Plot the predicted values from Model 1 in green\n",
    "plt.plot(x, y_pred_all, color='blue', label='All')\n",
    "\n",
    "# Plot the predicted values from Model 2 in red\n",
    "plt.plot(x, y_pred_no_lcz, color='red', label='Without LCZ')\n",
    "\n",
    "# Plot the predicted values from Model 2 in red\n",
    "plt.plot(x, y_pred_no_lcz_traffic, color='yellow', label='Without LCZ-traffic')\n",
    "\n",
    "# Set labels and title\n",
    "plt.xlabel('Time')\n",
    "plt.ylabel('PM 2.5 Prediction')\n",
    "plt.title('Comparison of Predicted and Actual PM 2.5 Values')\n",
    "\n",
    "# Show legend\n",
    "plt.legend()\n",
    "\n",
    "# Display the plot\n",
    "plt.show()\n"
   ]
  },
  {
   "cell_type": "code",
   "execution_count": 115,
   "metadata": {},
   "outputs": [
    {
     "data": {
      "image/png": "[encoded data removed]",
      "text/plain": [
       "<Figure size 640x480 with 1 Axes>"
      ]
     },
     "metadata": {},
     "output_type": "display_data"
    }
   ],
   "source": [
    "import matplotlib.pyplot as plt\n",
    "import numpy as np\n",
    "\n",
    "# Prepare x-axis values (hours of the day)\n",
    "x = np.arange(24)\n",
    "\n",
    "# Plot the actual values (y_test) in blue\n",
    "plt.plot(x, y_test[:24], color='green', marker='o', label='Actual')\n",
    "\n",
    "# Plot the predicted values from Model 1 in green\n",
    "plt.plot(x, y_pred_all[:24], color='blue', marker='o', label='All')\n",
    "\n",
    "# Plot the predicted values from Model 2 in red\n",
    "plt.plot(x, y_pred_no_lcz[:24], color='red', marker='o', label='without LCZ')\n",
    "\n",
    "# Plot the predicted values from Model 2 in red\n",
    "plt.plot(x, y_pred_no_lcz_traffic[:24], color='yellow', marker='o', label='without LCZ-traffic')\n",
    "\n",
    "\n",
    "# Set labels and title\n",
    "plt.xlabel('Hour of the Day: 01-11-2022')\n",
    "plt.ylabel('PM 2.5 Prediction')\n",
    "plt.title('Comparison of Predicted and Actual PM 2.5 Values for 24 Hours')\n",
    "\n",
    "# Show legend\n",
    "plt.legend()\n",
    "\n",
    "# Display the plot\n",
    "plt.show()\n"
   ]
  },
  {
   "cell_type": "code",
   "execution_count": 116,
   "metadata": {},
   "outputs": [
    {
     "data": {
      "image/png": "[encoded data removed]",
      "text/plain": [
       "<Figure size 640x480 with 1 Axes>"
      ]
     },
     "metadata": {},
     "output_type": "display_data"
    }
   ],
   "source": [
    "import matplotlib.pyplot as plt\n",
    "import numpy as np\n",
    "\n",
    "# Prepare x-axis values (days of the week)\n",
    "x = np.arange(7*24)  # Assuming 0 to 167 for 24 hours per day, 7 days in total\n",
    "\n",
    "# Plot the actual values (y_test) in blue\n",
    "plt.plot(x, y_test[:7*24], color='green', marker='o', label='Actual')\n",
    "\n",
    "# Plot the predicted values from Model 1 in green\n",
    "plt.plot(x, y_pred_all[:7*24], color='blue', marker='o', label='All')\n",
    "\n",
    "# Plot the predicted values from Model 2 in red\n",
    "plt.plot(x, y_pred_no_lcz[:7*24], color='yellow', marker='o', label='without LCZ-traffic')\n",
    "\n",
    "# Plot the predicted values from Model 2 in red\n",
    "plt.plot(x, y_pred_no_lcz[:7*24], color='red', marker='o', label='without LCZ')\n",
    "\n",
    "\n",
    "\n",
    "# Set x-axis ticks and labels\n",
    "plt.xticks(np.arange(0, 7*24, 24), ['Mon', 'Tue', 'Wed', 'Thu', 'Fri', 'Sat', 'Sun'])\n",
    "\n",
    "# Set labels and title\n",
    "plt.xlabel('Day of the Week')\n",
    "plt.ylabel('PM 2.5 Prediction')\n",
    "plt.title('Comparison of Predicted and Actual PM 2.5 Values for One Week')\n",
    "\n",
    "# Show legend\n",
    "plt.legend()\n",
    "\n",
    "# Display the plot\n",
    "plt.show()\n"
   ]
  }
 ],
 "metadata": {
  "kernelspec": {
   "display_name": "Python",
   "language": "python",
   "name": "python3"
  },
  "language_info": {
   "codemirror_mode": {
    "name": "ipython",
    "version": 3
   },
   "file_extension": ".py",
   "mimetype": "text/x-python",
   "name": "python",
   "nbconvert_exporter": "python",
   "pygments_lexer": "ipython3",
   "version": "3.8.10"
  }
 },
 "nbformat": 4,
 "nbformat_minor": 4
}
