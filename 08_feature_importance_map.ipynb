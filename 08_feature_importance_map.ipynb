{
 "cells": [
  {
   "cell_type": "code",
   "execution_count": 2,
   "id": "015f87e9-31fa-4bbb-afe2-119495ed18ba",
   "metadata": {},
   "outputs": [],
   "source": [
    "import rasterio\n",
    "import numpy as np\n",
    "\n",
    "# Define the path to the input raster image\n",
    "input_file = \"lcz_predicted_mosaic.tif\"\n",
    "\n",
    "# Define the values from the left and right columns as lists\n",
    "left_column = [2, 10, 5, 9, 7, 14, 13, 6, 11, 11, 1, 8, 12, 3, 0]\n",
    "right_column = [14.53, 9.69, 7.11, 5.07, 4.34, 3.24, 2.10, 1.32, 0.91, 0.80, 0.63, 0.24, 0.00, 0.00, 0.00]\n",
    "\n",
    "# Open the input raster image for reading\n",
    "with rasterio.open(input_file) as src:\n",
    "    # Read the first band from the input raster\n",
    "    first_band = src.read(1)\n",
    "    \n",
    "    # Create a new array for the additional band\n",
    "    new_band = np.zeros_like(first_band, dtype=np.float32)\n",
    "    \n",
    "    # Create a mapping dictionary from left_column values to right_column values\n",
    "    mapping = dict(zip(left_column, right_column))\n",
    "    \n",
    "    # Iterate over the values in the first band\n",
    "    for i, value in np.ndenumerate(first_band):\n",
    "        # Find the corresponding value in the left column\n",
    "        corresponding_value = mapping.get(value)\n",
    "        \n",
    "        # Assign the corresponding value from the right column to the corresponding pixel in the new band\n",
    "        if corresponding_value is not None:\n",
    "            new_band[i] = corresponding_value\n",
    "    \n",
    "    # Update the metadata to indicate the addition of the new band\n",
    "    metadata = src.meta\n",
    "    metadata['count'] = 2  # Update the band count\n",
    "    \n",
    "    # Create a new file with the updated band\n",
    "    output_file = \"lcz_feature_importance.tif\"\n",
    "    with rasterio.open(output_file, 'w', **metadata) as dst:\n",
    "        # Write the original first band\n",
    "        dst.write_band(1, first_band)\n",
    "        \n",
    "        # Write the new band as the second band\n",
    "        dst.write_band(2, new_band)\n"
   ]
  },
  {
   "cell_type": "code",
   "execution_count": null,
   "id": "28e4fecf-0ff4-4d92-85ce-503f20bcd5c2",
   "metadata": {},
   "outputs": [],
   "source": []
  }
 ],
 "metadata": {
  "kernelspec": {
   "display_name": "Python",
   "language": "python",
   "name": "python3"
  },
  "language_info": {
   "codemirror_mode": {
    "name": "ipython",
    "version": 3
   },
   "file_extension": ".py",
   "mimetype": "text/x-python",
   "name": "python",
   "nbconvert_exporter": "python",
   "pygments_lexer": "ipython3",
   "version": "3.8.10"
  }
 },
 "nbformat": 4,
 "nbformat_minor": 5
}
