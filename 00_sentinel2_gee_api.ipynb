{
 "cells": [
  {
   "cell_type": "markdown",
   "id": "6fdfc8f1-5f67-485d-9fc9-22c9cc6be6d0",
   "metadata": {},
   "source": [
    "# Extracting Sentinel2 iamgery using Google Earth Engine\n",
    "## for Amsterdam, The Hague, Rotterdam and Utrecht\n",
    "\n",
    "\n"
   ]
  },
  {
   "cell_type": "markdown",
   "id": "bf743d3d-bfc7-4e26-b11c-3ad61a2157ff",
   "metadata": {
    "tags": []
   },
   "source": [
    "## Initializing GEE API "
   ]
  },
  {
   "cell_type": "code",
   "execution_count": 1,
   "id": "b6766408-8e90-4a66-b4ec-6abba1cebd6b",
   "metadata": {},
   "outputs": [
    {
     "data": {
      "text/html": [
       "<p>To authorize access needed by Earth Engine, open the following\n",
       "        URL in a web browser and follow the instructions:</p>\n",
       "        <p><a href=https://code.earthengine.google.com/client-auth?scopes=https%3A//www.googleapis.com/auth/earthengine%20https%3A//www.googleapis.com/auth/devstorage.full_control&request_id=6XGHCJlLszWLgmtFCaL02avl03Od0D6ZxoSPKxbQaHA&tc=dKlCXd5FCzQC1XHjjOuof6qwzoc8SGGKZ9IgX_P4zoA&cc=5St0hTBI2dHakPk1XxI4ulRRc9nbAUWa0uDLFGO-bPk>https://code.earthengine.google.com/client-auth?scopes=https%3A//www.googleapis.com/auth/earthengine%20https%3A//www.googleapis.com/auth/devstorage.full_control&request_id=6XGHCJlLszWLgmtFCaL02avl03Od0D6ZxoSPKxbQaHA&tc=dKlCXd5FCzQC1XHjjOuof6qwzoc8SGGKZ9IgX_P4zoA&cc=5St0hTBI2dHakPk1XxI4ulRRc9nbAUWa0uDLFGO-bPk</a></p>\n",
       "        <p>The authorization workflow will generate a code, which you should paste in the box below.</p>\n",
       "        "
      ],
      "text/plain": [
       "<IPython.core.display.HTML object>"
      ]
     },
     "metadata": {},
     "output_type": "display_data"
    },
    {
     "name": "stderr",
     "output_type": "stream",
     "text": [
      "\n",
      "KeyboardInterrupt\n",
      "\n"
     ]
    }
   ],
   "source": [
    "import ee\n",
    "\n",
    "# Trigger the authentication flow.\n",
    "ee.Authenticate()\n",
    "\n",
    "try:\n",
    "    # Initialize the library.\n",
    "    ee.Initialize()\n",
    "    print('Google Earth Engine has initialized successfully!')\n",
    "except ee.EEException as e:\n",
    "    print('Google Earth Engine has failed to initialize!')\n",
    "except:\n",
    "    print(\"Unexpected error:\", sys.exc_info()[0])\n",
    "    raise"
   ]
  },
  {
   "cell_type": "markdown",
   "id": "d40934dd-e750-4a7b-97b0-d1ba2aa81da4",
   "metadata": {},
   "source": [
    "## Getting Data"
   ]
  },
  {
   "cell_type": "code",
   "execution_count": 2,
   "id": "d5ff7670-5014-4ca5-a6e1-742b3fa34c75",
   "metadata": {},
   "outputs": [],
   "source": [
    "#using ggemap python package for interactive mapping\n",
    "import geemap"
   ]
  },
  {
   "cell_type": "code",
   "execution_count": 3,
   "id": "77ccc46b-305d-45a6-a912-906a6f9e8115",
   "metadata": {},
   "outputs": [],
   "source": [
    "#Sentinel 2 cloud-free image in the Netherlands\n",
    "collection = ('COPERNICUS/S2')\n",
    "list_netherlands = list([(3.31, 50.80),(7.093, 50.80),(7.093, 53.52),(3.31, 53.52),(3.31, 50.80)])\n",
    "area_netherlands = ee.Geometry.Polygon(list_netherlands)"
   ]
  },
  {
   "cell_type": "code",
   "execution_count": 16,
   "id": "43b01a5e-a094-4bc2-bb85-be91d1b24977",
   "metadata": {},
   "outputs": [],
   "source": [
    "#Gather images of Netherlands for 2021 and 2022 and with cloud percentage less than 5  \n",
    "\n",
    "myCollection = ee.ImageCollection(collection) \\\n",
    "    .filterBounds(area_netherlands) \\\n",
    "    .filterDate('2021-01-01', '2022-12-31') \\\n",
    "    .filterMetadata('CLOUDY_PIXEL_PERCENTAGE', 'less_than', 5) \\\n",
    "    .sort('CLOUDY_PIXEL_PERCENTAGE', False)"
   ]
  },
  {
   "cell_type": "code",
   "execution_count": 17,
   "id": "d4b56359-bbbb-49a8-a805-6cdbf35ffdcb",
   "metadata": {},
   "outputs": [
    {
     "name": "stdout",
     "output_type": "stream",
     "text": [
      "Number of images in the collection:  730\n"
     ]
    }
   ],
   "source": [
    "# Total number of images in the Netherlands\n",
    "listOfImages = myCollection.aggregate_array('system:index').getInfo()\n",
    "print('Number of images in the collection: ', len(listOfImages))"
   ]
  },
  {
   "cell_type": "code",
   "execution_count": 30,
   "id": "602c6734-8a58-4e89-9248-79afac3c3070",
   "metadata": {},
   "outputs": [],
   "source": [
    "# Reduce the Img collection by median.\n",
    "img = myCollection.median()"
   ]
  },
  {
   "cell_type": "code",
   "execution_count": 19,
   "id": "b78540cd-071b-4977-846b-a57168a4e392",
   "metadata": {
    "tags": []
   },
   "outputs": [
    {
     "data": {
      "application/vnd.jupyter.widget-view+json": {
       "model_id": "777d567cc7864b2b8ba81dc7283a3795",
       "version_major": 2,
       "version_minor": 0
      },
      "text/plain": [
       "Map(center=[52.13, 5.29], controls=(WidgetControl(options=['position', 'transparent_bg'], widget=HBox(children…"
      ]
     },
     "metadata": {},
     "output_type": "display_data"
    }
   ],
   "source": [
    "# Display the result. \n",
    "vis_params = {\"min\": 0, \n",
    "              \"max\": 4000, \n",
    "              \"bands\": [\"B4\", \"B3\", \"B2\"]} \n",
    "Map = geemap.Map()\n",
    "center = ee.Geometry.Point([5.29, 52.13]).getInfo()['coordinates']\n",
    "Map.setCenter(center[0], center[1], 7)\n",
    "Map.addLayer(img, vis_params, 'netherlands')\n",
    "Map"
   ]
  },
  {
   "cell_type": "code",
   "execution_count": 31,
   "id": "7277fbd5-b363-4060-ab72-c222251beb49",
   "metadata": {},
   "outputs": [
    {
     "name": "stdout",
     "output_type": "stream",
     "text": [
      "Band names:  ['B1', 'B2', 'B3', 'B4', 'B5', 'B6', 'B7', 'B8', 'B8A', 'B9', 'B10', 'B11', 'B12', 'QA10', 'QA20', 'QA60']\n"
     ]
    }
   ],
   "source": [
    "# Get information about the bands as a list. \n",
    "bandNames = img.bandNames() \n",
    "print('Band names: ', bandNames.getInfo()) # ee.List of band names "
   ]
  },
  {
   "cell_type": "code",
   "execution_count": 32,
   "id": "b9e5e6c3-dcf0-4e5b-861e-9ba1092d2283",
   "metadata": {},
   "outputs": [
    {
     "name": "stdout",
     "output_type": "stream",
     "text": [
      "projection:  {'type': 'Projection', 'crs': 'EPSG:4326', 'transform': [1, 0, 0, 0, 1, 0]}\n"
     ]
    }
   ],
   "source": [
    "# Get projection information from band 1. \n",
    "proj = img.projection() \n",
    "print('projection: ', proj.getInfo()) # ee.Projection object "
   ]
  },
  {
   "cell_type": "code",
   "execution_count": 22,
   "id": "1ab2cb22-6f61-4952-a744-6d513c06797c",
   "metadata": {},
   "outputs": [
    {
     "name": "stdout",
     "output_type": "stream",
     "text": [
      "Band 1 scale:  111319.49079327357\n",
      "Band 2 scale:  111319.49079327357\n",
      "Band 3 scale:  111319.49079327357\n",
      "Band 4 scale:  111319.49079327357\n",
      "Band 8 scale:  111319.49079327357\n"
     ]
    }
   ],
   "source": [
    "# Get spatial resolution (in meters) information from bands\n",
    "bscale = img.select('B1').projection().nominalScale() \n",
    "print('Band 1 scale: ', bscale.getInfo()) # ee.Number \n",
    "bscale = img.select('B2').projection().nominalScale() \n",
    "print('Band 2 scale: ', bscale.getInfo()) # ee.Number \n",
    "bscale = img.select('B3').projection().nominalScale() \n",
    "print('Band 3 scale: ', bscale.getInfo()) # ee.Number\n",
    "bscale = img.select('B4').projection().nominalScale() \n",
    "print('Band 4 scale: ', bscale.getInfo()) # ee.Number\n",
    "bscale = img.select('B8').projection().nominalScale() \n",
    "print('Band 8 scale: ', bscale.getInfo()) # ee.Number"
   ]
  },
  {
   "cell_type": "code",
   "execution_count": 42,
   "id": "da2b813a-9556-43c9-b39a-62beea889299",
   "metadata": {},
   "outputs": [],
   "source": [
    "# Select the desired bands\n",
    "bands = ['B2', 'B3', 'B4', 'B5', 'B6', 'B7', 'B8', 'B8A', 'B11', 'B12']\n",
    "\n",
    "# Select the desired bands from the image\n",
    "img_selectedbands = img.select(bands)"
   ]
  },
  {
   "cell_type": "code",
   "execution_count": 61,
   "id": "9caa81ad-0f06-4df1-914f-7c9ce64f22a8",
   "metadata": {},
   "outputs": [
    {
     "name": "stdout",
     "output_type": "stream",
     "text": [
      "Band names:  ['B2', 'B3', 'B4', 'B5', 'B6', 'B7', 'B8', 'B8A', 'B11', 'B12']\n"
     ]
    }
   ],
   "source": [
    "# Get information about the selected bands as a list. \n",
    "bandNames = img_selectedbands.bandNames() \n",
    "print('Band names: ', bandNames.getInfo()) # ee.List of band names "
   ]
  },
  {
   "cell_type": "markdown",
   "id": "7560a800-1c46-4381-ba37-73698d735419",
   "metadata": {},
   "source": [
    "### Clip an image by region of interest\n",
    "\n",
    "https://developers.google.com/earth-engine/tutorials/community/intro-to-python-api#clip_an_image_by_a_region_of_interest"
   ]
  },
  {
   "cell_type": "markdown",
   "id": "778e4a36-e792-43c0-9eee-a03e1ab78370",
   "metadata": {},
   "source": [
    "## Amsterdam"
   ]
  },
  {
   "cell_type": "code",
   "execution_count": 62,
   "id": "75564707-683f-4528-8be9-32c90faea6e7",
   "metadata": {},
   "outputs": [
    {
     "data": {
      "application/vnd.jupyter.widget-view+json": {
       "model_id": "ef5338abcda64c2789d7775d3a5bd197",
       "version_major": 2,
       "version_minor": 0
      },
      "text/plain": [
       "Map(center=[52.13, 5.29], controls=(WidgetControl(options=['position', 'transparent_bg'], widget=HBox(children…"
      ]
     },
     "metadata": {},
     "output_type": "display_data"
    }
   ],
   "source": [
    "#Clip an image by region of interest\n",
    "\n",
    "# Define the bounding box of Amsterdam\n",
    "list_amsterdam = list([(4.728758, 52.278175),(5.079161, 52.278175),(5.079161, 52.431064),(4.728758, 52.431064),(4.728758, 52.278175)])\n",
    "area_amsterdam = ee.Geometry.Polygon(list_amsterdam)\n",
    "\n",
    "# Clip the image by Amsterdam area.\n",
    "amsterdam = img_selectedbands.clip(area_amsterdam)\n",
    "\n",
    "\n",
    "vis_params = {\"min\": 0, \n",
    "              \"max\": 4000, \n",
    "              \"bands\": [\"B4\", \"B3\", \"B2\"]} \n",
    "Map = geemap.Map()\n",
    "center = ee.Geometry.Point([5.29, 52.13]).getInfo()['coordinates']\n",
    "Map.setCenter(center[0], center[1], 7)\n",
    "Map.addLayer(amsterdam, vis_params, 'amsterdam')\n",
    "Map"
   ]
  },
  {
   "cell_type": "code",
   "execution_count": 64,
   "id": "9a8b04e1-e485-4193-9d6a-bfa50ca00941",
   "metadata": {},
   "outputs": [],
   "source": [
    "# Export Amsterdam image to GEOTIFF file with the pixel resolution of 10m*10m and with Dutch reference system \n",
    "\n",
    "#Amsterdam = amsterdam.reproject(crs='EPSG:28992', scale=10)\n",
    "task = ee.batch.Export.image.toDrive(image=amsterdam,\n",
    "                                     description='Amsterdam_Sen2',\n",
    "                                     scale=10,\n",
    "                                     region=area_amsterdam,\n",
    "                                     fileNamePrefix='Amsterdam_Sen2',\n",
    "                                     crs='EPSG:28992',\n",
    "                                     fileFormat='GeoTIFF')\n",
    "task.start()"
   ]
  },
  {
   "cell_type": "code",
   "execution_count": 67,
   "id": "9b104862-295f-4cc1-abf8-0adefe8ac11c",
   "metadata": {},
   "outputs": [
    {
     "data": {
      "text/plain": [
       "{'state': 'RUNNING',\n",
       " 'description': 'Amsterdam_Sen2',\n",
       " 'creation_timestamp_ms': 1681210033607,\n",
       " 'update_timestamp_ms': 1681210053126,\n",
       " 'start_timestamp_ms': 1681210053092,\n",
       " 'task_type': 'EXPORT_IMAGE',\n",
       " 'attempt': 1,\n",
       " 'id': '3CHNUXK6GSGY5B6Z6C5IKIXX',\n",
       " 'name': 'projects/earthengine-legacy/operations/3CHNUXK6GSGY5B6Z6C5IKIXX'}"
      ]
     },
     "execution_count": 67,
     "metadata": {},
     "output_type": "execute_result"
    }
   ],
   "source": [
    "task.status()"
   ]
  }
 ],
 "metadata": {
  "kernelspec": {
   "display_name": "Python",
   "language": "python",
   "name": "python3"
  },
  "language_info": {
   "codemirror_mode": {
    "name": "ipython",
    "version": 3
   },
   "file_extension": ".py",
   "mimetype": "text/x-python",
   "name": "python",
   "nbconvert_exporter": "python",
   "pygments_lexer": "ipython3",
   "version": "3.8.10"
  }
 },
 "nbformat": 4,
 "nbformat_minor": 5
}
